{
 "cells": [
  {
   "cell_type": "code",
   "execution_count": 8,
   "metadata": {},
   "outputs": [
    {
     "name": "stdout",
     "output_type": "stream",
     "text": [
      "True True\n"
     ]
    }
   ],
   "source": [
    "import sys\n",
    "from functools import partial\n",
    "from typing import Callable, List\n",
    "from torch import nn, optim\n",
    "from torchvision import transforms\n",
    "import torch\n",
    "import pandas as pd\n",
    "sys.path.append('../')\n",
    "from modules import dataloaders, schedulers, model, train\n",
    "\n",
    "print(torch.cuda.is_available(), torch.backends.cudnn.enabled)\n",
    "cuda_flag = torch.cuda.is_available()\n",
    "device = torch.device('cuda') if cuda_flag else torch.device('cpu')\n",
    "RESULT_DIR = '../results/headline'"
   ]
  },
  {
   "cell_type": "code",
   "execution_count": 10,
   "metadata": {},
   "outputs": [
    {
     "name": "stdout",
     "output_type": "stream",
     "text": [
      "Files already downloaded and verified\n",
      "Files already downloaded and verified\n",
      "Files already downloaded and verified\n",
      "Files already downloaded and verified\n"
     ]
    }
   ],
   "source": [
    "dl, _ = dataloaders.get_cifar10_data_loaders(data_dir='../data/cifar10', batch_size=100)\n",
    "rgb_ave = dataloaders.channel_avg(dl)\n",
    "tfms = transforms.Compose([transforms.ToTensor(), transforms.Normalize(mean=rgb_ave, std=[1,1,1])])\n",
    "train_dl, test_dl = dataloaders.get_cifar10_data_loaders(data_dir='../data/cifar10',\n",
    "                                             batch_size=100,\n",
    "                                             num_workers=8,\n",
    "                                             pin_memory=cuda_flag,\n",
    "                                             train_transform=tfms,\n",
    "                                             test_transform=tfms)"
   ]
  },
  {
   "cell_type": "code",
   "execution_count": 12,
   "metadata": {},
   "outputs": [],
   "source": [
    "def run_experiment(train_dl:torch.utils.data.DataLoader,\n",
    "                   test_dl:torch.utils.data.DataLoader,\n",
    "                   net:nn.Module,\n",
    "                   optim_groups:List[torch.nn.parameter.Parameter],\n",
    "                   scheduler_init:Callable[[optim.Optimizer], optim.lr_scheduler._LRScheduler],\n",
    "                   device:torch.device,\n",
    "                   iterations:int,\n",
    "                   result_path:str,\n",
    "                   criterion:nn.Module=nn.CrossEntropyLoss(),\n",
    "                   validate_it=1000):\n",
    "    'TODO: docstring'\n",
    "    optimizer = optim.SGD(optim_groups, lr=0.001, momentum=0.9, weight_decay=0.004)\n",
    "    scheduler = scheduler_init(optimizer)\n",
    "    recorder = {\n",
    "        'iteration' : [],\n",
    "        'trn_loss' : [],\n",
    "        'lr' : [],\n",
    "        'val_loss' : [],\n",
    "        'val_acc' : []}\n",
    "    obe = partial(train.on_batch_end,\n",
    "                  recorder,\n",
    "                  test_dl,\n",
    "                  net,\n",
    "                  criterion,\n",
    "                  device,\n",
    "                  validate_it=validate_it)\n",
    "    train.train_run(net,\n",
    "                    train_dl,\n",
    "                    criterion,\n",
    "                    optimizer,\n",
    "                    scheduler,\n",
    "                    iterations,\n",
    "                    obe,\n",
    "                    device)\n",
    "    return pd.DataFrame(recorder).to_csv(result_path, index=False)"
   ]
  },
  {
   "cell_type": "code",
   "execution_count": 14,
   "metadata": {},
   "outputs": [
    {
     "data": {
      "application/vnd.jupyter.widget-view+json": {
       "model_id": "c2a741509f194f3394fb32f8680d6c2a",
       "version_major": 2,
       "version_minor": 0
      },
      "text/plain": [
       "HBox(children=(IntProgress(value=0, max=4000), HTML(value='')))"
      ]
     },
     "metadata": {},
     "output_type": "display_data"
    },
    {
     "name": "stdout",
     "output_type": "stream",
     "text": [
      "2.3102407455444336 | 2.3044705772399903 | 0.1\n",
      "2.312624454498291 | 2.303440170288086 | 0.1\n",
      "2.299867630004883 | 2.3018194746971132 | 0.1003\n",
      "2.299769163131714 | 2.299508664608002 | 0.1189\n",
      "2.2890985012054443 | 2.2889735388755796 | 0.1731\n",
      "2.1724050045013428 | 2.1056038117408753 | 0.2212\n",
      "1.9830414056777954 | 1.9662329626083375 | 0.2669\n",
      "1.7505059242248535 | 1.8333210253715515 | 0.3211\n",
      "1.8099440336227417 | 1.7154952216148376 | 0.3644\n",
      "1.735664963722229 | 1.6707480144500733 | 0.3902\n",
      "1.8090471029281616 | 1.6958602201938628 | 0.3747\n",
      "1.4420520067214966 | 1.562908991575241 | 0.4226\n",
      "1.5176358222961426 | 1.5288190817832947 | 0.4484\n",
      "1.5646848678588867 | 1.4690062773227692 | 0.4626\n",
      "1.5287458896636963 | 1.4254344367980958 | 0.4705\n",
      "1.3944320678710938 | 1.3957298028469085 | 0.493\n",
      "1.4541237354278564 | 1.482874664068222 | 0.4647\n",
      "1.2937211990356445 | 1.3920288789272308 | 0.4978\n",
      "1.4595838785171509 | 1.3885995137691498 | 0.4898\n",
      "1.3977084159851074 | 1.3327751433849335 | 0.5184\n",
      "1.4297860860824585 | 1.313413417339325 | 0.5207\n",
      "1.3398633003234863 | 1.23241552233696 | 0.5562\n",
      "1.4148399829864502 | 1.2333104938268662 | 0.5608\n",
      "1.1229106187820435 | 1.2393834429979325 | 0.562\n",
      "1.0277223587036133 | 1.1944725263118743 | 0.5748\n",
      "1.1965827941894531 | 1.1561001884937285 | 0.5922\n",
      "1.0912175178527832 | 1.1870786613225937 | 0.5784\n",
      "1.0023802518844604 | 1.2180446875095368 | 0.5697\n",
      "1.144965648651123 | 1.1316473180055617 | 0.5945\n",
      "0.9058307409286499 | 1.1757885533571244 | 0.5872\n",
      "1.1316349506378174 | 1.0736467689275742 | 0.6198\n",
      "1.0095505714416504 | 1.0563679629564284 | 0.6249\n",
      "0.9903914928436279 | 1.0584929472208022 | 0.6313\n",
      "0.9079753756523132 | 1.0193149423599244 | 0.6423\n",
      "0.9971649646759033 | 1.0389809292554855 | 0.64\n",
      "1.092659831047058 | 1.0678241401910782 | 0.6293\n",
      "0.9716897010803223 | 1.009310980439186 | 0.6397\n",
      "0.8256077766418457 | 1.0676412177085877 | 0.621\n",
      "1.0423576831817627 | 1.0392470145225525 | 0.634\n",
      "1.0086053609848022 | 1.0348952394723892 | 0.6466\n",
      "1.2215458154678345 | 0.9722020810842514 | 0.6645\n",
      "\n"
     ]
    }
   ],
   "source": [
    "# EXPERIMENT: learning rate range test\n",
    "\n",
    "net = model.Cifar10Net_quick().to(device)\n",
    "sched_init = partial(schedulers.TriangularScheduler, 4000, 0.001, 0.04)\n",
    "run_experiment(train_dl,\n",
    "               test_dl,\n",
    "               net,\n",
    "               net.parameters(),\n",
    "               sched_init,\n",
    "               device,\n",
    "               4000,\n",
    "               f'{RESULT_DIR}/lrrt.csv',\n",
    "               validate_it=100)"
   ]
  },
  {
   "cell_type": "code",
   "execution_count": 15,
   "metadata": {},
   "outputs": [
    {
     "data": {
      "application/vnd.jupyter.widget-view+json": {
       "model_id": "ebdef63527f34b399f3753c8358af5b5",
       "version_major": 2,
       "version_minor": 0
      },
      "text/plain": [
       "HBox(children=(IntProgress(value=0, max=35000), HTML(value='')))"
      ]
     },
     "metadata": {},
     "output_type": "display_data"
    },
    {
     "name": "stdout",
     "output_type": "stream",
     "text": [
      "2.3046481609344482 | 2.3050693583488466 | 0.1\n",
      "1.6276497840881348 | 1.6658544802665711 | 0.3775\n",
      "1.6071046590805054 | 1.4575368249416352 | 0.4723\n",
      "1.1853220462799072 | 1.1849050027132035 | 0.5854\n",
      "1.0007984638214111 | 1.0766128051280974 | 0.6206\n",
      "1.098536491394043 | 1.098484729528427 | 0.6053\n",
      "1.067954659461975 | 1.0179495507478713 | 0.6452\n",
      "0.873240053653717 | 0.8730618339776993 | 0.6951\n",
      "0.8067431449890137 | 0.8435088264942169 | 0.7058\n",
      "0.7172715067863464 | 0.8401214396953582 | 0.6997\n",
      "0.9136711955070496 | 0.9045740330219268 | 0.6888\n",
      "0.7858867645263672 | 0.8323401719331741 | 0.7095\n",
      "0.676919162273407 | 0.768417640030384 | 0.7356\n",
      "0.569383442401886 | 0.7894460743665696 | 0.7283\n",
      "0.8763219714164734 | 0.8593053424358368 | 0.6918\n",
      "0.7031083703041077 | 0.7635247391462326 | 0.7405\n",
      "0.7737318277359009 | 0.7039665549993515 | 0.7597\n",
      "0.7017474174499512 | 0.7498368972539902 | 0.7382\n",
      "0.6863064765930176 | 0.7777117562294006 | 0.7274\n",
      "0.5760299563407898 | 0.7579437607526779 | 0.7367\n",
      "0.8141185641288757 | 0.6805918073654175 | 0.7626\n",
      "0.6192842125892639 | 0.7262087464332581 | 0.752\n",
      "0.7069505453109741 | 0.7594643211364747 | 0.7395\n",
      "0.688271164894104 | 0.7535567307472228 | 0.7343\n",
      "0.6294512152671814 | 0.6576567015051842 | 0.7727\n",
      "0.842017412185669 | 0.7353359541296959 | 0.7441\n",
      "0.6357226967811584 | 0.7499864035844803 | 0.7422\n",
      "0.5887724757194519 | 0.7028562301397323 | 0.7544\n",
      "0.584858238697052 | 0.6701927968859672 | 0.7688\n",
      "0.510364294052124 | 0.7000928854942322 | 0.7573\n",
      "0.8183411359786987 | 0.7741387063264846 | 0.7346\n",
      "0.5510991215705872 | 0.7306861275434494 | 0.7475\n",
      "0.44544288516044617 | 0.6379735046625137 | 0.7766\n",
      "0.6007404923439026 | 0.6922690835595131 | 0.7612\n",
      "0.6798303127288818 | 0.7769505003094673 | 0.7291\n",
      "0.5942520499229431 | 0.684341501891613 | 0.7609\n",
      "\n"
     ]
    },
    {
     "data": {
      "application/vnd.jupyter.widget-view+json": {
       "model_id": "a5d16fdd2ba04391aff82608a8f7f2ec",
       "version_major": 2,
       "version_minor": 0
      },
      "text/plain": [
       "HBox(children=(IntProgress(value=0, max=60000), HTML(value='')))"
      ]
     },
     "metadata": {},
     "output_type": "display_data"
    },
    {
     "name": "stdout",
     "output_type": "stream",
     "text": [
      "2.3076255321502686 | 2.3054757213592527 | 0.1\n",
      "2.2966320514678955 | 2.2977423882484436 | 0.1386\n",
      "1.9801298379898071 | 1.988151558637619 | 0.2702\n",
      "1.7893126010894775 | 1.73906156539917 | 0.3537\n",
      "1.5177464485168457 | 1.6250308978557586 | 0.3961\n",
      "1.540555477142334 | 1.5488996946811675 | 0.4256\n",
      "1.4656131267547607 | 1.5008938932418823 | 0.4429\n",
      "1.3516697883605957 | 1.4505203294754028 | 0.463\n",
      "1.4371273517608643 | 1.4071182465553285 | 0.4875\n",
      "1.2681291103363037 | 1.3760166156291962 | 0.5007\n",
      "1.322860598564148 | 1.3051490521430968 | 0.5242\n",
      "1.350134015083313 | 1.2639894819259643 | 0.5442\n",
      "1.3140590190887451 | 1.223908793926239 | 0.5625\n",
      "1.4771825075149536 | 1.213692992925644 | 0.5653\n",
      "1.0366463661193848 | 1.1663755536079408 | 0.585\n",
      "0.9874826073646545 | 1.1559757047891617 | 0.5909\n",
      "1.3291401863098145 | 1.1199875617027282 | 0.6039\n",
      "1.1845009326934814 | 1.1341004800796508 | 0.6013\n",
      "1.0622944831848145 | 1.1004797339439392 | 0.6124\n",
      "1.0091549158096313 | 1.0626203805208205 | 0.6259\n",
      "0.952467143535614 | 1.0374127423763275 | 0.6353\n",
      "1.0823570489883423 | 1.0388294619321823 | 0.6386\n",
      "0.9398037195205688 | 1.037472432255745 | 0.6334\n",
      "1.0668818950653076 | 0.9848223680257797 | 0.6587\n",
      "0.8927574157714844 | 0.9700483655929566 | 0.6571\n",
      "0.8626545667648315 | 0.9496674585342407 | 0.6688\n",
      "0.9612385034561157 | 0.9555705720186234 | 0.6678\n",
      "0.9300326704978943 | 0.931140992641449 | 0.6769\n",
      "0.9093668460845947 | 0.9142179745435715 | 0.6841\n",
      "0.8952177166938782 | 0.900393762588501 | 0.6886\n",
      "0.972969651222229 | 0.8860223150253296 | 0.6914\n"
     ]
    },
    {
     "ename": "KeyboardInterrupt",
     "evalue": "",
     "output_type": "error",
     "traceback": [
      "\u001b[0;31m---------------------------------------------------------------------------\u001b[0m",
      "\u001b[0;31mKeyboardInterrupt\u001b[0m                         Traceback (most recent call last)",
      "\u001b[0;32m<ipython-input-15-e78fc8db2a0c>\u001b[0m in \u001b[0;36m<module>\u001b[0;34m\u001b[0m\n\u001b[1;32m     26\u001b[0m                \u001b[0mdevice\u001b[0m\u001b[0;34m,\u001b[0m\u001b[0;34m\u001b[0m\u001b[0;34m\u001b[0m\u001b[0m\n\u001b[1;32m     27\u001b[0m                \u001b[0;36m60000\u001b[0m\u001b[0;34m,\u001b[0m\u001b[0;34m\u001b[0m\u001b[0;34m\u001b[0m\u001b[0m\n\u001b[0;32m---> 28\u001b[0;31m                f'{RESULT_DIR}/fixed_1.csv')\n\u001b[0m\u001b[1;32m     29\u001b[0m \u001b[0;34m\u001b[0m\u001b[0m\n\u001b[1;32m     30\u001b[0m \u001b[0msched_init\u001b[0m \u001b[0;34m=\u001b[0m \u001b[0mpartial\u001b[0m\u001b[0;34m(\u001b[0m\u001b[0mschedulers\u001b[0m\u001b[0;34m.\u001b[0m\u001b[0mFixedScheduler\u001b[0m\u001b[0;34m,\u001b[0m \u001b[0;36m0.0001\u001b[0m\u001b[0;34m)\u001b[0m\u001b[0;34m\u001b[0m\u001b[0;34m\u001b[0m\u001b[0m\n",
      "\u001b[0;32m<ipython-input-12-f1c055198e23>\u001b[0m in \u001b[0;36mrun_experiment\u001b[0;34m(train_dl, test_dl, net, optim_groups, scheduler_init, device, iterations, result_path, criterion, validate_it)\u001b[0m\n\u001b[1;32m     32\u001b[0m                     \u001b[0miterations\u001b[0m\u001b[0;34m,\u001b[0m\u001b[0;34m\u001b[0m\u001b[0;34m\u001b[0m\u001b[0m\n\u001b[1;32m     33\u001b[0m                     \u001b[0mobe\u001b[0m\u001b[0;34m,\u001b[0m\u001b[0;34m\u001b[0m\u001b[0;34m\u001b[0m\u001b[0m\n\u001b[0;32m---> 34\u001b[0;31m                     device)\n\u001b[0m\u001b[1;32m     35\u001b[0m     \u001b[0;32mreturn\u001b[0m \u001b[0mpd\u001b[0m\u001b[0;34m.\u001b[0m\u001b[0mDataFrame\u001b[0m\u001b[0;34m(\u001b[0m\u001b[0mrecorder\u001b[0m\u001b[0;34m)\u001b[0m\u001b[0;34m.\u001b[0m\u001b[0mto_csv\u001b[0m\u001b[0;34m(\u001b[0m\u001b[0mresult_path\u001b[0m\u001b[0;34m,\u001b[0m \u001b[0mindex\u001b[0m\u001b[0;34m=\u001b[0m\u001b[0;32mFalse\u001b[0m\u001b[0;34m)\u001b[0m\u001b[0;34m\u001b[0m\u001b[0;34m\u001b[0m\u001b[0m\n",
      "\u001b[0;32m~/clr/modules/train.py\u001b[0m in \u001b[0;36mtrain_run\u001b[0;34m(model, train_dl, criterion, optimizer, scheduler, num_it, on_batch_end, device)\u001b[0m\n\u001b[1;32m     59\u001b[0m         \u001b[0mxs\u001b[0m \u001b[0;34m=\u001b[0m \u001b[0mxs\u001b[0m\u001b[0;34m.\u001b[0m\u001b[0mto\u001b[0m\u001b[0;34m(\u001b[0m\u001b[0mdevice\u001b[0m\u001b[0;34m)\u001b[0m\u001b[0;34m\u001b[0m\u001b[0;34m\u001b[0m\u001b[0m\n\u001b[1;32m     60\u001b[0m         \u001b[0mys\u001b[0m \u001b[0;34m=\u001b[0m \u001b[0mys\u001b[0m\u001b[0;34m.\u001b[0m\u001b[0mto\u001b[0m\u001b[0;34m(\u001b[0m\u001b[0mdevice\u001b[0m\u001b[0;34m)\u001b[0m\u001b[0;34m\u001b[0m\u001b[0;34m\u001b[0m\u001b[0m\n\u001b[0;32m---> 61\u001b[0;31m         \u001b[0mloss\u001b[0m \u001b[0;34m=\u001b[0m \u001b[0mtrain_batch\u001b[0m\u001b[0;34m(\u001b[0m\u001b[0mxs\u001b[0m\u001b[0;34m,\u001b[0m \u001b[0mys\u001b[0m\u001b[0;34m,\u001b[0m \u001b[0mmodel\u001b[0m\u001b[0;34m,\u001b[0m \u001b[0mcriterion\u001b[0m\u001b[0;34m,\u001b[0m \u001b[0moptimizer\u001b[0m\u001b[0;34m)\u001b[0m\u001b[0;34m\u001b[0m\u001b[0;34m\u001b[0m\u001b[0m\n\u001b[0m\u001b[1;32m     62\u001b[0m         \u001b[0mon_batch_end\u001b[0m\u001b[0;34m(\u001b[0m\u001b[0mbar\u001b[0m\u001b[0;34m,\u001b[0m \u001b[0mi\u001b[0m\u001b[0;34m,\u001b[0m \u001b[0mloss\u001b[0m\u001b[0;34m,\u001b[0m \u001b[0mscheduler\u001b[0m\u001b[0;34m.\u001b[0m\u001b[0mget_lr\u001b[0m\u001b[0;34m(\u001b[0m\u001b[0;34m)\u001b[0m\u001b[0;34m[\u001b[0m\u001b[0;36m0\u001b[0m\u001b[0;34m]\u001b[0m\u001b[0;34m)\u001b[0m\u001b[0;34m\u001b[0m\u001b[0;34m\u001b[0m\u001b[0m\n\u001b[1;32m     63\u001b[0m         \u001b[0mscheduler\u001b[0m\u001b[0;34m.\u001b[0m\u001b[0mstep\u001b[0m\u001b[0;34m(\u001b[0m\u001b[0;34m)\u001b[0m\u001b[0;34m\u001b[0m\u001b[0;34m\u001b[0m\u001b[0m\n",
      "\u001b[0;32m~/clr/modules/train.py\u001b[0m in \u001b[0;36mtrain_batch\u001b[0;34m(xs, ys, model, criterion, optimizer)\u001b[0m\n\u001b[1;32m     36\u001b[0m     \u001b[0mout\u001b[0m \u001b[0;34m=\u001b[0m \u001b[0mmodel\u001b[0m\u001b[0;34m(\u001b[0m\u001b[0mxs\u001b[0m\u001b[0;34m)\u001b[0m\u001b[0;34m\u001b[0m\u001b[0;34m\u001b[0m\u001b[0m\n\u001b[1;32m     37\u001b[0m     \u001b[0mloss\u001b[0m \u001b[0;34m=\u001b[0m \u001b[0mcriterion\u001b[0m\u001b[0;34m(\u001b[0m\u001b[0mout\u001b[0m\u001b[0;34m,\u001b[0m \u001b[0mys\u001b[0m\u001b[0;34m)\u001b[0m\u001b[0;34m\u001b[0m\u001b[0;34m\u001b[0m\u001b[0m\n\u001b[0;32m---> 38\u001b[0;31m     \u001b[0mloss\u001b[0m\u001b[0;34m.\u001b[0m\u001b[0mbackward\u001b[0m\u001b[0;34m(\u001b[0m\u001b[0;34m)\u001b[0m\u001b[0;34m\u001b[0m\u001b[0;34m\u001b[0m\u001b[0m\n\u001b[0m\u001b[1;32m     39\u001b[0m     \u001b[0moptimizer\u001b[0m\u001b[0;34m.\u001b[0m\u001b[0mstep\u001b[0m\u001b[0;34m(\u001b[0m\u001b[0;34m)\u001b[0m\u001b[0;34m\u001b[0m\u001b[0;34m\u001b[0m\u001b[0m\n\u001b[1;32m     40\u001b[0m     \u001b[0;32mreturn\u001b[0m \u001b[0mloss\u001b[0m\u001b[0;34m.\u001b[0m\u001b[0mitem\u001b[0m\u001b[0;34m(\u001b[0m\u001b[0;34m)\u001b[0m\u001b[0;34m\u001b[0m\u001b[0;34m\u001b[0m\u001b[0m\n",
      "\u001b[0;32m~/miniconda3/envs/clr/lib/python3.7/site-packages/torch/tensor.py\u001b[0m in \u001b[0;36mbackward\u001b[0;34m(self, gradient, retain_graph, create_graph)\u001b[0m\n\u001b[1;32m    100\u001b[0m                 \u001b[0mproducts\u001b[0m\u001b[0;34m.\u001b[0m \u001b[0mDefaults\u001b[0m \u001b[0mto\u001b[0m\u001b[0;31m \u001b[0m\u001b[0;31m`\u001b[0m\u001b[0;31m`\u001b[0m\u001b[0;32mFalse\u001b[0m\u001b[0;31m`\u001b[0m\u001b[0;31m`\u001b[0m\u001b[0;34m.\u001b[0m\u001b[0;34m\u001b[0m\u001b[0;34m\u001b[0m\u001b[0m\n\u001b[1;32m    101\u001b[0m         \"\"\"\n\u001b[0;32m--> 102\u001b[0;31m         \u001b[0mtorch\u001b[0m\u001b[0;34m.\u001b[0m\u001b[0mautograd\u001b[0m\u001b[0;34m.\u001b[0m\u001b[0mbackward\u001b[0m\u001b[0;34m(\u001b[0m\u001b[0mself\u001b[0m\u001b[0;34m,\u001b[0m \u001b[0mgradient\u001b[0m\u001b[0;34m,\u001b[0m \u001b[0mretain_graph\u001b[0m\u001b[0;34m,\u001b[0m \u001b[0mcreate_graph\u001b[0m\u001b[0;34m)\u001b[0m\u001b[0;34m\u001b[0m\u001b[0;34m\u001b[0m\u001b[0m\n\u001b[0m\u001b[1;32m    103\u001b[0m \u001b[0;34m\u001b[0m\u001b[0m\n\u001b[1;32m    104\u001b[0m     \u001b[0;32mdef\u001b[0m \u001b[0mregister_hook\u001b[0m\u001b[0;34m(\u001b[0m\u001b[0mself\u001b[0m\u001b[0;34m,\u001b[0m \u001b[0mhook\u001b[0m\u001b[0;34m)\u001b[0m\u001b[0;34m:\u001b[0m\u001b[0;34m\u001b[0m\u001b[0;34m\u001b[0m\u001b[0m\n",
      "\u001b[0;32m~/miniconda3/envs/clr/lib/python3.7/site-packages/torch/autograd/__init__.py\u001b[0m in \u001b[0;36mbackward\u001b[0;34m(tensors, grad_tensors, retain_graph, create_graph, grad_variables)\u001b[0m\n\u001b[1;32m     88\u001b[0m     Variable._execution_engine.run_backward(\n\u001b[1;32m     89\u001b[0m         \u001b[0mtensors\u001b[0m\u001b[0;34m,\u001b[0m \u001b[0mgrad_tensors\u001b[0m\u001b[0;34m,\u001b[0m \u001b[0mretain_graph\u001b[0m\u001b[0;34m,\u001b[0m \u001b[0mcreate_graph\u001b[0m\u001b[0;34m,\u001b[0m\u001b[0;34m\u001b[0m\u001b[0;34m\u001b[0m\u001b[0m\n\u001b[0;32m---> 90\u001b[0;31m         allow_unreachable=True)  # allow_unreachable flag\n\u001b[0m\u001b[1;32m     91\u001b[0m \u001b[0;34m\u001b[0m\u001b[0m\n\u001b[1;32m     92\u001b[0m \u001b[0;34m\u001b[0m\u001b[0m\n",
      "\u001b[0;31mKeyboardInterrupt\u001b[0m: "
     ]
    }
   ],
   "source": [
    "# EXPERIMENT: triangular (CLR) learning rate policy \n",
    "\n",
    "\n",
    "net = model.Cifar10Net_quick().to(device)\n",
    "sched_init = partial(schedulers.TriangularScheduler, 2000, 0.0025, 0.01)\n",
    "\n",
    "run_experiment(train_dl,\n",
    "               test_dl,\n",
    "               net,\n",
    "               net.parameters(),\n",
    "               sched_init,\n",
    "               device,\n",
    "               35000,\n",
    "               f'{RESULT_DIR}/triangular.csv')\n",
    "               \n",
    "\n",
    "# EXPERIMENT: fixed learning rate policy\n",
    "\n",
    "sched_init = partial(schedulers.FixedScheduler, 0.001)\n",
    "net = model.Cifar10Net_quick().to(device)\n",
    "run_experiment(train_dl,\n",
    "               test_dl,\n",
    "               net,\n",
    "               net.parameters(),\n",
    "               sched_init,\n",
    "               device,\n",
    "               60000,\n",
    "               f'{RESULT_DIR}/fixed_1.csv')\n",
    "\n",
    "sched_init = partial(schedulers.FixedScheduler, 0.0001)\n",
    "run_experiment(train_dl,\n",
    "               test_dl,\n",
    "               net,\n",
    "               net.parameters(),\n",
    "               sched_init,\n",
    "               device,\n",
    "               5000,\n",
    "               f'{RESULT_DIR}/fixed_2.csv')\n",
    "\n",
    "sched_init = partial(schedulers.FixedScheduler, 0.00001)\n",
    "run_experiment(train_dl,\n",
    "               test_dl,\n",
    "               net,\n",
    "               net.parameters(),\n",
    "               sched_init,\n",
    "               device,\n",
    "               5000,\n",
    "               f'{RESULT_DIR}/fixed_3.csv')\n"
   ]
  }
 ],
 "metadata": {
  "kernelspec": {
   "display_name": "Python 3",
   "language": "python",
   "name": "python3"
  },
  "language_info": {
   "codemirror_mode": {
    "name": "ipython",
    "version": 3
   },
   "file_extension": ".py",
   "mimetype": "text/x-python",
   "name": "python",
   "nbconvert_exporter": "python",
   "pygments_lexer": "ipython3",
   "version": "3.7.1"
  }
 },
 "nbformat": 4,
 "nbformat_minor": 2
}
