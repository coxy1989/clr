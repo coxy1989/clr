{
 "cells": [
  {
   "cell_type": "code",
   "execution_count": null,
   "metadata": {},
   "outputs": [],
   "source": [
    "from modules import dataloaders, schedulers, model, train\n",
    "from torch import nn, optim"
   ]
  },
  {
   "cell_type": "code",
   "execution_count": null,
   "metadata": {},
   "outputs": [],
   "source": [
    "print(torch.cuda.is_available(), torch.backends.cudnn.enabled)\n",
    "cuda_flag = torch.cuda.is_available()\n",
    "device = torch.device('cuda') if cuda_flag else torch.device('cpu')"
   ]
  },
  {
   "cell_type": "code",
   "execution_count": null,
   "metadata": {},
   "outputs": [],
   "source": [
    "dl, _ = dataloaders.get_cifar10_data_loaders(data_dir='./data/cifar10', batch_size=100)\n",
    "rgb_ave = dataloaders.channel_avg(dl)"
   ]
  },
  {
   "cell_type": "code",
   "execution_count": null,
   "metadata": {},
   "outputs": [],
   "source": [
    "def record_run(train_dl:torch.utils.data.DataLoader,\n",
    "               test_dl:torch.utils.data.DataLoader,\n",
    "               scheduler:optim.lr_scheduler._LRScheduler,\n",
    "               result_path:str):\n",
    "    'TODO:docstring'\n",
    "    net = model.Cifar10Net().to(device)\n",
    "    init_weights(net)\n",
    "    crit = nn.CrossEntropyLoss()\n",
    "    opt = optim.SGD(net.parameters(), lr=0.0001, momentum=0.9, weight_decay=0.004)\n",
    "    recorder = {\n",
    "        'iteration' : [],\n",
    "        'trn_loss' : [],\n",
    "        'lr' : [],\n",
    "        'val_loss' : [],\n",
    "        'val_acc' : []}\n",
    "    obe = partial(on_batch_end, recorder, test_dl, net, crit)\n",
    "    train_run(net, train_dl, crit, opt, scheduler, 24000, obe, device)\n",
    "    return pd.DataFrame(recorder).to_csv(result_path, index=False)"
   ]
  },
  {
   "cell_type": "code",
   "execution_count": null,
   "metadata": {},
   "outputs": [],
   "source": [
    "tfms = transforms.Compose([transforms.ToTensor(), transforms.Normalize(mean=rgb_ave, std=[1,1,1])])\n",
    "train_dl, test_dl = get_cifar10_data_loaders(data_dir='./data/cifar10',\n",
    "                                             batch_size=100,\n",
    "                                             num_workers=8,\n",
    "                                             pin_memory=cuda_flag,\n",
    "                                             train_transform=tfms,\n",
    "                                             test_transform=tfms)\n",
    "\n",
    "t_sched = TriangularScheduler(step_size=2000, min_lr=0.001, max_lr=0.006, optimizer=opt)\n",
    "record_run(train_dl, test_dl, t_sched, './results/triangular.csv')"
   ]
  }
 ],
 "metadata": {
  "kernelspec": {
   "display_name": "Python 3",
   "language": "python",
   "name": "python3"
  },
  "language_info": {
   "codemirror_mode": {
    "name": "ipython",
    "version": 3
   },
   "file_extension": ".py",
   "mimetype": "text/x-python",
   "name": "python",
   "nbconvert_exporter": "python",
   "pygments_lexer": "ipython3",
   "version": "3.7.1"
  }
 },
 "nbformat": 4,
 "nbformat_minor": 2
}
